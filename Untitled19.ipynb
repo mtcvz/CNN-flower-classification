{
 "cells": [
  {
   "cell_type": "code",
   "execution_count": 1,
   "metadata": {},
   "outputs": [],
   "source": [
    "from os import makedirs \n",
    "from os import listdir\n",
    "from shutil import copyfile\n",
    "from random import seed\n",
    "from random import random"
   ]
  },
  {
   "cell_type": "code",
   "execution_count": 2,
   "metadata": {},
   "outputs": [],
   "source": [
    "import sys\n",
    "from matplotlib import pyplot\n",
    "from tensorflow.keras.utils import to_categorical\n",
    "from tensorflow.keras.models import Sequential\n",
    "from tensorflow.keras.layers import Conv2D\n",
    "from tensorflow.keras.layers import MaxPooling2D\n",
    "from tensorflow.keras.layers import Dense\n",
    "from tensorflow.keras.layers import Flatten\n",
    "from tensorflow.keras.optimizers import SGD\n",
    "from tensorflow.keras.preprocessing.image import ImageDataGenerator\n",
    "import tensorflow as tf"
   ]
  },
  {
   "cell_type": "code",
   "execution_count": 3,
   "metadata": {},
   "outputs": [],
   "source": [
    "def summarize_diagnostics(history):\n",
    "    #plot loss\n",
    "    pyplot.subplot(211)\n",
    "    pyplot.title('Cross Entropy Loss')\n",
    "    #blue = train, orange = test\n",
    "    pyplot.plot(history.history['loss'],color='blue',label='train')\n",
    "    pyplot.plot(history.history['val_loss'], color='orange', label='test')\n",
    "    #plot accuracy\n",
    "    pyplot.subplot(212)\n",
    "    pyplot.title('Classification Accuracy')\n",
    "    pyplot.plot(history.history['accuracy'], color='blue', label='train')\n",
    "    pyplot.plot(history.history['val_accuracy'], color='orange', label='test')\n",
    "    pyplot.tight_layout()\n",
    "    #save plot to file\n",
    "    filename = sys.argv[0].split('/')[-1]\n",
    "    pyplot.savefig(filename + '_plot.png')\n",
    "    pyplot.show()\n",
    "    pyplot.close()"
   ]
  },
  {
   "cell_type": "code",
   "execution_count": 4,
   "metadata": {},
   "outputs": [],
   "source": [
    "def define_model_vgg_19():\n",
    "    # load model\n",
    "    model = VGG19(input_shape=(224,224,3), include_top=False, weights=\"imagenet\")\n",
    "    # mark loaded layers as not trainable\n",
    "    for layer in model.layers:\n",
    "        layer.trainable = False\n",
    "    # add new classifier layers\n",
    "    flat1 = Flatten()(model.layers[-1].output)\n",
    "    class1 = Dense(512,activation='relu',kernel_initializer='he_uniform')(flat1)\n",
    "    output = Dense(5,activation='softmax')(class1)\n",
    "    # define new model\n",
    "    model = Model(inputs=model.inputs, outputs = output)\n",
    "    #compile model\n",
    "    opt = SGD(lr=0.001,momentum=0.9)\n",
    "    model.compile(optimizer=opt,loss='categorical_crossentropy',metrics=['accuracy'])\n",
    "    return model"
   ]
  },
  {
   "cell_type": "code",
   "execution_count": 5,
   "metadata": {},
   "outputs": [],
   "source": [
    "from tensorflow.keras.applications import VGG19\n",
    "from tensorflow.keras.models import Model"
   ]
  },
  {
   "cell_type": "code",
   "execution_count": 6,
   "metadata": {},
   "outputs": [],
   "source": [
    "def run_model_vgg19():\n",
    "    model = define_model_vgg_19()\n",
    "    #datagen = ImageDataGenerator(rescale = 1./255)\n",
    "    datagen = ImageDataGenerator(featurewise_center=True)\n",
    "    #datagen.mean = [123.68,116.779,103.939]\n",
    "    #prepare train and test iterators\n",
    "    #train_datagen = ImageDataGenerator(rescale = 1./255, zoom_range = 0.3, rotation_range = 50,\n",
    "    #                                width_shift_range = 0.2, height_shift_range = 0.2, shear_range = 0.2, \n",
    "    #                                   horizontal_flip = True, fill_mode = 'nearest')\n",
    "    #test_datagen = ImageDataGenerator(rescale=1./255)\n",
    "    \n",
    "    train_it = datagen.flow_from_directory('flowers5/train/',\n",
    "                class_mode='categorical',batch_size=64,target_size=(224,224))\n",
    "    test_it = datagen.flow_from_directory('flowers5/test/',\n",
    "            class_mode='categorical', batch_size=64, target_size=(224, 224))\n",
    "    #fit model\n",
    "    history = model.fit_generator(train_it,steps_per_epoch=len(train_it),\n",
    "            validation_data=test_it,validation_steps=len(test_it),epochs=10,verbose=1)\n",
    "    #evaluate model\n",
    "    _, acc = model.evaluate_generator(test_it, steps=len(test_it), verbose=0)\n",
    "    print('>%.3f' % (acc*100.0))\n",
    "    #plot of learning curves\n",
    "    summarize_diagnostics(history)"
   ]
  },
  {
   "cell_type": "code",
   "execution_count": 7,
   "metadata": {},
   "outputs": [
    {
     "name": "stdout",
     "output_type": "stream",
     "text": [
      "Found 6824 images belonging to 5 classes.\n",
      "Found 853 images belonging to 5 classes.\n"
     ]
    },
    {
     "name": "stderr",
     "output_type": "stream",
     "text": [
      "D:\\Anaconda\\lib\\site-packages\\tensorflow\\python\\keras\\engine\\training.py:1847: UserWarning: `Model.fit_generator` is deprecated and will be removed in a future version. Please use `Model.fit`, which supports generators.\n",
      "  warnings.warn('`Model.fit_generator` is deprecated and '\n",
      "D:\\Anaconda\\lib\\site-packages\\keras_preprocessing\\image\\image_data_generator.py:720: UserWarning: This ImageDataGenerator specifies `featurewise_center`, but it hasn't been fit on any training data. Fit it first by calling `.fit(numpy_data)`.\n",
      "  warnings.warn('This ImageDataGenerator specifies '\n"
     ]
    },
    {
     "name": "stdout",
     "output_type": "stream",
     "text": [
      "Epoch 1/10\n",
      "107/107 [==============================] - 1394s 13s/step - loss: 5.5398 - accuracy: 0.6549 - val_loss: 0.6573 - val_accuracy: 0.7972\n",
      "Epoch 2/10\n",
      "107/107 [==============================] - 1418s 13s/step - loss: 0.1944 - accuracy: 0.9315 - val_loss: 0.7453 - val_accuracy: 0.8230\n",
      "Epoch 3/10\n",
      "107/107 [==============================] - 1361s 13s/step - loss: 0.0594 - accuracy: 0.9835 - val_loss: 0.7256 - val_accuracy: 0.8394\n",
      "Epoch 4/10\n",
      "107/107 [==============================] - 1364s 13s/step - loss: 0.0193 - accuracy: 0.9975 - val_loss: 0.8389 - val_accuracy: 0.8394\n",
      "Epoch 5/10\n",
      "107/107 [==============================] - 1366s 13s/step - loss: 0.0062 - accuracy: 0.9998 - val_loss: 0.8817 - val_accuracy: 0.8382\n",
      "Epoch 6/10\n",
      "107/107 [==============================] - 1362s 13s/step - loss: 0.0042 - accuracy: 0.9998 - val_loss: 0.9355 - val_accuracy: 0.8382\n",
      "Epoch 7/10\n",
      "107/107 [==============================] - 1357s 13s/step - loss: 0.0036 - accuracy: 0.9998 - val_loss: 0.9258 - val_accuracy: 0.8394\n",
      "Epoch 8/10\n",
      "107/107 [==============================] - 1375s 13s/step - loss: 0.0028 - accuracy: 0.9998 - val_loss: 0.9332 - val_accuracy: 0.8453\n",
      "Epoch 9/10\n",
      "107/107 [==============================] - 1373s 13s/step - loss: 0.0026 - accuracy: 0.9998 - val_loss: 0.9427 - val_accuracy: 0.8429\n",
      "Epoch 10/10\n",
      "107/107 [==============================] - 1365s 13s/step - loss: 0.0024 - accuracy: 0.9995 - val_loss: 0.9567 - val_accuracy: 0.8441\n"
     ]
    },
    {
     "name": "stderr",
     "output_type": "stream",
     "text": [
      "D:\\Anaconda\\lib\\site-packages\\tensorflow\\python\\keras\\engine\\training.py:1880: UserWarning: `Model.evaluate_generator` is deprecated and will be removed in a future version. Please use `Model.evaluate`, which supports generators.\n",
      "  warnings.warn('`Model.evaluate_generator` is deprecated and '\n"
     ]
    },
    {
     "name": "stdout",
     "output_type": "stream",
     "text": [
      ">84.408\n"
     ]
    },
    {
     "data": {
      "image/png": "[encoded data removed]",
      "text/plain": [
       "<Figure size 432x288 with 2 Axes>"
      ]
     },
     "metadata": {
      "needs_background": "light"
     },
     "output_type": "display_data"
    }
   ],
   "source": [
    "run_model_vgg19()"
   ]
  },
  {
   "cell_type": "code",
   "execution_count": 1,
   "metadata": {},
   "outputs": [],
   "source": [
    "from os import makedirs \n",
    "from os import listdir\n",
    "from shutil import copyfile\n",
    "from random import seed\n",
    "from random import random"
   ]
  },
  {
   "cell_type": "code",
   "execution_count": 2,
   "metadata": {},
   "outputs": [],
   "source": [
    "import sys\n",
    "from matplotlib import pyplot\n",
    "from tensorflow.keras.utils import to_categorical\n",
    "from tensorflow.keras.models import Sequential\n",
    "from tensorflow.keras.layers import Conv2D\n",
    "from tensorflow.keras.layers import MaxPooling2D\n",
    "from tensorflow.keras.layers import Dense\n",
    "from tensorflow.keras.layers import Flatten\n",
    "from tensorflow.keras.optimizers import SGD\n",
    "from tensorflow.keras.preprocessing.image import ImageDataGenerator\n",
    "import tensorflow as tf"
   ]
  },
  {
   "cell_type": "code",
   "execution_count": 3,
   "metadata": {},
   "outputs": [],
   "source": [
    "def summarize_diagnostics(history):\n",
    "    #plot loss\n",
    "    pyplot.subplot(211)\n",
    "    pyplot.title('Cross Entropy Loss')\n",
    "    #blue = train, orange = test\n",
    "    pyplot.plot(history.history['loss'],color='blue',label='train')\n",
    "    pyplot.plot(history.history['val_loss'], color='orange', label='test')\n",
    "    #plot accuracy\n",
    "    pyplot.subplot(212)\n",
    "    pyplot.title('Classification Accuracy')\n",
    "    pyplot.plot(history.history['accuracy'], color='blue', label='train')\n",
    "    pyplot.plot(history.history['val_accuracy'], color='orange', label='test')\n",
    "    pyplot.tight_layout()\n",
    "    #save plot to file\n",
    "    filename = sys.argv[0].split('/')[-1]\n",
    "    pyplot.savefig(filename + '_plot.png')\n",
    "    pyplot.show()\n",
    "    pyplot.close()"
   ]
  },
  {
   "cell_type": "code",
   "execution_count": 5,
   "metadata": {},
   "outputs": [],
   "source": [
    "def define_model_vgg_19():\n",
    "    # load model\n",
    "    model = VGG19(input_shape=(224,224,3), include_top=False, weights=\"imagenet\")\n",
    "    # mark loaded layers as not trainable\n",
    "    for layer in model.layers:\n",
    "        layer.trainable = False\n",
    "    # add new classifier layers\n",
    "    flat1 = Flatten()(model.layers[-1].output)\n",
    "    class1 = Dense(128,activation='relu',kernel_initializer='he_uniform')(flat1)\n",
    "    output = Dense(5,activation='softmax')(class1)\n",
    "    # define new model\n",
    "    model = Model(inputs=model.inputs, outputs = output)\n",
    "    #compile model\n",
    "    opt = SGD(lr=0.001,momentum=0.9)\n",
    "    model.compile(optimizer=opt,loss='categorical_crossentropy',metrics=['accuracy'])\n",
    "    return model"
   ]
  },
  {
   "cell_type": "code",
   "execution_count": 4,
   "metadata": {},
   "outputs": [],
   "source": [
    "from tensorflow.keras.applications import VGG19\n",
    "from tensorflow.keras.models import Model"
   ]
  },
  {
   "cell_type": "code",
   "execution_count": 6,
   "metadata": {},
   "outputs": [],
   "source": [
    "def run_model_vgg19():\n",
    "    model = define_model_vgg_19()\n",
    "    datagen = ImageDataGenerator(rescale = 1./255)\n",
    "    #datagen = ImageDataGenerator(featurewise_center=True)\n",
    "\n",
    "    train_it = datagen.flow_from_directory('flowers5/train/',\n",
    "                class_mode='categorical',batch_size=64,target_size=(224,224))\n",
    "    test_it = datagen.flow_from_directory('flowers5/test/',\n",
    "            class_mode='categorical', batch_size=64, target_size=(224, 224))\n",
    "    #fit model\n",
    "    history = model.fit_generator(train_it,steps_per_epoch=len(train_it),\n",
    "            validation_data=test_it,validation_steps=len(test_it),epochs=10,verbose=1)\n",
    "    #evaluate model\n",
    "    _, acc = model.evaluate_generator(test_it, steps=len(test_it), verbose=0)\n",
    "    print('>%.3f' % (acc*100.0))\n",
    "    #plot of learning curves\n",
    "    summarize_diagnostics(history)"
   ]
  },
  {
   "cell_type": "code",
   "execution_count": 7,
   "metadata": {},
   "outputs": [
    {
     "name": "stdout",
     "output_type": "stream",
     "text": [
      "Found 6824 images belonging to 5 classes.\n",
      "Found 853 images belonging to 5 classes.\n"
     ]
    },
    {
     "name": "stderr",
     "output_type": "stream",
     "text": [
      "D:\\Anaconda\\lib\\site-packages\\tensorflow\\python\\keras\\engine\\training.py:1847: UserWarning: `Model.fit_generator` is deprecated and will be removed in a future version. Please use `Model.fit`, which supports generators.\n",
      "  warnings.warn('`Model.fit_generator` is deprecated and '\n"
     ]
    },
    {
     "name": "stdout",
     "output_type": "stream",
     "text": [
      "Epoch 1/10\n",
      "107/107 [==============================] - 1553s 15s/step - loss: 1.3346 - accuracy: 0.4360 - val_loss: 0.9007 - val_accuracy: 0.6741\n",
      "Epoch 2/10\n",
      "107/107 [==============================] - 1781s 17s/step - loss: 0.7270 - accuracy: 0.7349 - val_loss: 0.6932 - val_accuracy: 0.7386\n",
      "Epoch 3/10\n",
      "107/107 [==============================] - 1658s 16s/step - loss: 0.6203 - accuracy: 0.7830 - val_loss: 0.6320 - val_accuracy: 0.7913\n",
      "Epoch 4/10\n",
      "107/107 [==============================] - 1666s 16s/step - loss: 0.5351 - accuracy: 0.8132 - val_loss: 0.7065 - val_accuracy: 0.7526\n",
      "Epoch 5/10\n",
      "107/107 [==============================] - 1654s 15s/step - loss: 0.5250 - accuracy: 0.8104 - val_loss: 0.5949 - val_accuracy: 0.7855\n",
      "Epoch 6/10\n",
      "107/107 [==============================] - 1650s 15s/step - loss: 0.4353 - accuracy: 0.8502 - val_loss: 0.6775 - val_accuracy: 0.7538\n",
      "Epoch 7/10\n",
      "107/107 [==============================] - 1649s 15s/step - loss: 0.4271 - accuracy: 0.8508 - val_loss: 0.5863 - val_accuracy: 0.8007\n",
      "Epoch 8/10\n",
      "107/107 [==============================] - 1656s 15s/step - loss: 0.3743 - accuracy: 0.8747 - val_loss: 0.5707 - val_accuracy: 0.7960\n",
      "Epoch 9/10\n",
      "107/107 [==============================] - 1634s 15s/step - loss: 0.3320 - accuracy: 0.8865 - val_loss: 0.6450 - val_accuracy: 0.7714\n",
      "Epoch 10/10\n",
      "107/107 [==============================] - 1646s 15s/step - loss: 0.3125 - accuracy: 0.8990 - val_loss: 0.5630 - val_accuracy: 0.7995\n"
     ]
    },
    {
     "name": "stderr",
     "output_type": "stream",
     "text": [
      "D:\\Anaconda\\lib\\site-packages\\tensorflow\\python\\keras\\engine\\training.py:1880: UserWarning: `Model.evaluate_generator` is deprecated and will be removed in a future version. Please use `Model.evaluate`, which supports generators.\n",
      "  warnings.warn('`Model.evaluate_generator` is deprecated and '\n"
     ]
    },
    {
     "name": "stdout",
     "output_type": "stream",
     "text": [
      ">79.953\n"
     ]
    },
    {
     "data": {
      "image/png": "[encoded data removed]",
      "text/plain": [
       "<Figure size 432x288 with 2 Axes>"
      ]
     },
     "metadata": {
      "needs_background": "light"
     },
     "output_type": "display_data"
    }
   ],
   "source": [
    "run_model_vgg19()"
   ]
  },
  {
   "cell_type": "code",
   "execution_count": null,
   "metadata": {},
   "outputs": [],
   "source": []
  }
 ],
 "metadata": {
  "kernelspec": {
   "display_name": "Python 3",
   "language": "python",
   "name": "python3"
  },
  "language_info": {
   "codemirror_mode": {
    "name": "ipython",
    "version": 3
   },
   "file_extension": ".py",
   "mimetype": "text/x-python",
   "name": "python",
   "nbconvert_exporter": "python",
   "pygments_lexer": "ipython3",
   "version": "3.8.3"
  }
 },
 "nbformat": 4,
 "nbformat_minor": 4
}
