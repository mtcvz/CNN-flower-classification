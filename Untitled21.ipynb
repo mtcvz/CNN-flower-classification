{
 "cells": [
  {
   "cell_type": "code",
   "execution_count": 1,
   "metadata": {},
   "outputs": [],
   "source": [
    "from os import makedirs \n",
    "from os import listdir\n",
    "from shutil import copyfile\n",
    "from random import seed\n",
    "from random import random"
   ]
  },
  {
   "cell_type": "code",
   "execution_count": 2,
   "metadata": {},
   "outputs": [],
   "source": [
    "import sys\n",
    "from matplotlib import pyplot\n",
    "from tensorflow.keras.utils import to_categorical\n",
    "from tensorflow.keras.models import Sequential\n",
    "from tensorflow.keras.layers import Conv2D\n",
    "from tensorflow.keras.layers import MaxPooling2D\n",
    "from tensorflow.keras.layers import Dense\n",
    "from tensorflow.keras.layers import Flatten\n",
    "from tensorflow.keras.optimizers import SGD\n",
    "from tensorflow.keras.preprocessing.image import ImageDataGenerator\n",
    "import tensorflow as tf"
   ]
  },
  {
   "cell_type": "code",
   "execution_count": 3,
   "metadata": {},
   "outputs": [],
   "source": [
    "from tensorflow.keras.models import Model\n",
    "from tensorflow.keras.applications.resnet50 import ResNet50"
   ]
  },
  {
   "cell_type": "code",
   "execution_count": 4,
   "metadata": {},
   "outputs": [],
   "source": [
    "def summarize_diagnostics(history):\n",
    "    #plot loss\n",
    "    pyplot.subplot(211)\n",
    "    pyplot.title('Cross Entropy Loss')\n",
    "    #blue = train, orange = test\n",
    "    pyplot.plot(history.history['loss'],color='blue',label='train')\n",
    "    pyplot.plot(history.history['val_loss'], color='orange', label='test')\n",
    "    #plot accuracy\n",
    "    pyplot.subplot(212)\n",
    "    pyplot.title('Classification Accuracy')\n",
    "    pyplot.plot(history.history['accuracy'], color='blue', label='train')\n",
    "    pyplot.plot(history.history['val_accuracy'], color='orange', label='test')\n",
    "    pyplot.tight_layout()\n",
    "    #save plot to file\n",
    "    filename = sys.argv[0].split('/')[-1]\n",
    "    pyplot.savefig(filename + '_plot.png')\n",
    "    pyplot.show()\n",
    "    pyplot.close()"
   ]
  },
  {
   "cell_type": "code",
   "execution_count": 5,
   "metadata": {},
   "outputs": [],
   "source": [
    "def define_model_resnet():\n",
    "    # load model\n",
    "    model = ResNet50(include_top=False,input_shape=(224,224,3))\n",
    "    # mark loaded layers as not trainable\n",
    "    for layer in model.layers:\n",
    "        layer.trainable = False\n",
    "    # add new classifier layers\n",
    "    flat1 = Flatten()(model.layers[-1].output)\n",
    "    class1 = Dense(512,activation='relu',kernel_initializer='he_uniform')(flat1)\n",
    "    output = Dense(5,activation='softmax')(class1)\n",
    "    # define new model\n",
    "    model = Model(inputs=model.inputs, outputs = output)\n",
    "    #compile model\n",
    "    opt = SGD(lr=0.001,momentum=0.9)\n",
    "    model.compile(optimizer=opt,loss='categorical_crossentropy',metrics=['accuracy'])\n",
    "    return model"
   ]
  },
  {
   "cell_type": "code",
   "execution_count": 6,
   "metadata": {},
   "outputs": [],
   "source": [
    "def run_model_resnet():\n",
    "    model = define_model_resnet()\n",
    "    datagen = ImageDataGenerator(featurewise_center=True)\n",
    "    \n",
    "    train_it = datagen.flow_from_directory('flowers5/train/',\n",
    "                class_mode='categorical',batch_size=64,target_size=(224,224))\n",
    "    test_it = datagen.flow_from_directory('flowers5/test/',\n",
    "            class_mode='categorical', batch_size=64, target_size=(224, 224))\n",
    "    #fit model\n",
    "    history = model.fit_generator(train_it,steps_per_epoch=len(train_it),\n",
    "            validation_data=test_it,validation_steps=len(test_it),epochs=10,verbose=1)\n",
    "    #evaluate model\n",
    "    _, acc = model.evaluate_generator(test_it, steps=len(test_it), verbose=0)\n",
    "    print('>%.3f' % (acc*100.0))\n",
    "    #plot of learning curves\n",
    "    summarize_diagnostics(history)\n",
    "    #save model\n",
    "    #model.save('flowers_model2.h5')\n",
    "    #converter = tf.lite.TFLiteConverter.from_keras_model(model)\n",
    "    #tflite_model = converter.convert()\n",
    "    #open(\"converted_model2.tflite\", \"wb\").write(tflite_model)"
   ]
  },
  {
   "cell_type": "code",
   "execution_count": 7,
   "metadata": {},
   "outputs": [
    {
     "name": "stdout",
     "output_type": "stream",
     "text": [
      "Downloading data from https://storage.googleapis.com/tensorflow/keras-applications/resnet/resnet50_weights_tf_dim_ordering_tf_kernels_notop.h5\n",
      "94773248/94765736 [==============================] - 47s 0us/step\n",
      "Found 6824 images belonging to 5 classes.\n",
      "Found 853 images belonging to 5 classes.\n"
     ]
    },
    {
     "name": "stderr",
     "output_type": "stream",
     "text": [
      "D:\\Anaconda\\lib\\site-packages\\tensorflow\\python\\keras\\engine\\training.py:1847: UserWarning: `Model.fit_generator` is deprecated and will be removed in a future version. Please use `Model.fit`, which supports generators.\n",
      "  warnings.warn('`Model.fit_generator` is deprecated and '\n",
      "D:\\Anaconda\\lib\\site-packages\\keras_preprocessing\\image\\image_data_generator.py:720: UserWarning: This ImageDataGenerator specifies `featurewise_center`, but it hasn't been fit on any training data. Fit it first by calling `.fit(numpy_data)`.\n",
      "  warnings.warn('This ImageDataGenerator specifies '\n"
     ]
    },
    {
     "name": "stdout",
     "output_type": "stream",
     "text": [
      "Epoch 1/10\n",
      "107/107 [==============================] - 488s 5s/step - loss: 1.1698 - accuracy: 0.7267 - val_loss: 0.4014 - val_accuracy: 0.8593\n",
      "Epoch 2/10\n",
      "107/107 [==============================] - 480s 4s/step - loss: 0.0866 - accuracy: 0.9753 - val_loss: 0.3922 - val_accuracy: 0.8863\n",
      "Epoch 3/10\n",
      "107/107 [==============================] - 492s 5s/step - loss: 0.0170 - accuracy: 0.9991 - val_loss: 0.4241 - val_accuracy: 0.8839\n",
      "Epoch 4/10\n",
      "107/107 [==============================] - 486s 5s/step - loss: 0.0076 - accuracy: 0.9997 - val_loss: 0.4269 - val_accuracy: 0.8875\n",
      "Epoch 5/10\n",
      "107/107 [==============================] - 483s 5s/step - loss: 0.0032 - accuracy: 0.9999 - val_loss: 0.4438 - val_accuracy: 0.8875\n",
      "Epoch 6/10\n",
      "107/107 [==============================] - 496s 5s/step - loss: 0.0083 - accuracy: 0.9991 - val_loss: 0.4485 - val_accuracy: 0.8910\n",
      "Epoch 7/10\n",
      "107/107 [==============================] - 501s 5s/step - loss: 0.0121 - accuracy: 0.9989 - val_loss: 0.4505 - val_accuracy: 0.8921\n",
      "Epoch 8/10\n",
      "107/107 [==============================] - 503s 5s/step - loss: 0.0065 - accuracy: 0.9987 - val_loss: 0.4584 - val_accuracy: 0.8910\n",
      "Epoch 9/10\n",
      "107/107 [==============================] - 510s 5s/step - loss: 0.0046 - accuracy: 0.9994 - val_loss: 0.4741 - val_accuracy: 0.8863\n",
      "Epoch 10/10\n",
      "107/107 [==============================] - 545s 5s/step - loss: 0.0034 - accuracy: 0.9996 - val_loss: 0.4712 - val_accuracy: 0.8910\n"
     ]
    },
    {
     "name": "stderr",
     "output_type": "stream",
     "text": [
      "D:\\Anaconda\\lib\\site-packages\\tensorflow\\python\\keras\\engine\\training.py:1880: UserWarning: `Model.evaluate_generator` is deprecated and will be removed in a future version. Please use `Model.evaluate`, which supports generators.\n",
      "  warnings.warn('`Model.evaluate_generator` is deprecated and '\n"
     ]
    },
    {
     "name": "stdout",
     "output_type": "stream",
     "text": [
      ">89.097\n"
     ]
    },
    {
     "data": {
      "image/png": "[encoded data removed]",
      "text/plain": [
       "<Figure size 432x288 with 2 Axes>"
      ]
     },
     "metadata": {
      "needs_background": "light"
     },
     "output_type": "display_data"
    }
   ],
   "source": [
    "run_model_resnet()"
   ]
  },
  {
   "cell_type": "code",
   "execution_count": 6,
   "metadata": {},
   "outputs": [],
   "source": [
    "def define_model_resnet_2():\n",
    "    # load model\n",
    "    model = ResNet50(include_top=False,input_shape=(224,224,3))\n",
    "    # mark loaded layers as not trainable\n",
    "    for layer in model.layers:\n",
    "        layer.trainable = False\n",
    "    # add new classifier layers\n",
    "    flat1 = Flatten()(model.layers[-1].output)\n",
    "    class1 = Dense(512,activation='relu',kernel_initializer='he_uniform')(flat1)\n",
    "    drop = Dropout(0.5)(class1)\n",
    "    output = Dense(5,activation='softmax')(drop)\n",
    "    # define new model\n",
    "    model = Model(inputs=model.inputs, outputs = output)\n",
    "    #compile model\n",
    "    opt = SGD(lr=0.001,momentum=0.9)\n",
    "    model.compile(optimizer=opt,loss='categorical_crossentropy',metrics=['accuracy'])\n",
    "    return model"
   ]
  },
  {
   "cell_type": "code",
   "execution_count": 7,
   "metadata": {},
   "outputs": [],
   "source": [
    "def run_model_resnet_2():\n",
    "    model = define_model_resnet_2()\n",
    "    datagen = ImageDataGenerator(featurewise_center=True)\n",
    "    \n",
    "    train_it = datagen.flow_from_directory('flowers5/train/',\n",
    "                class_mode='categorical',batch_size=64,target_size=(224,224))\n",
    "    test_it = datagen.flow_from_directory('flowers5/test/',\n",
    "            class_mode='categorical', batch_size=64, target_size=(224, 224))\n",
    "    #fit model\n",
    "    history = model.fit_generator(train_it,steps_per_epoch=len(train_it),\n",
    "            validation_data=test_it,validation_steps=len(test_it),epochs=10,verbose=1)\n",
    "    #evaluate model\n",
    "    _, acc = model.evaluate_generator(test_it, steps=len(test_it), verbose=0)\n",
    "    print('>%.3f' % (acc*100.0))\n",
    "    #plot of learning curves\n",
    "    summarize_diagnostics(history)\n",
    "    #save model\n",
    "    #model.save('flowers_model2.h5')\n",
    "    #converter = tf.lite.TFLiteConverter.from_keras_model(model)\n",
    "    #tflite_model = converter.convert()\n",
    "    #open(\"converted_model2.tflite\", \"wb\").write(tflite_model)"
   ]
  },
  {
   "cell_type": "code",
   "execution_count": 8,
   "metadata": {},
   "outputs": [],
   "source": [
    "from tensorflow.keras.layers import Dropout"
   ]
  },
  {
   "cell_type": "code",
   "execution_count": 10,
   "metadata": {},
   "outputs": [
    {
     "name": "stdout",
     "output_type": "stream",
     "text": [
      "Found 6824 images belonging to 5 classes.\n",
      "Found 853 images belonging to 5 classes.\n"
     ]
    },
    {
     "name": "stderr",
     "output_type": "stream",
     "text": [
      "D:\\Anaconda\\lib\\site-packages\\tensorflow\\python\\keras\\engine\\training.py:1847: UserWarning: `Model.fit_generator` is deprecated and will be removed in a future version. Please use `Model.fit`, which supports generators.\n",
      "  warnings.warn('`Model.fit_generator` is deprecated and '\n",
      "D:\\Anaconda\\lib\\site-packages\\keras_preprocessing\\image\\image_data_generator.py:720: UserWarning: This ImageDataGenerator specifies `featurewise_center`, but it hasn't been fit on any training data. Fit it first by calling `.fit(numpy_data)`.\n",
      "  warnings.warn('This ImageDataGenerator specifies '\n"
     ]
    },
    {
     "name": "stdout",
     "output_type": "stream",
     "text": [
      "Epoch 1/10\n",
      "107/107 [==============================] - 427s 4s/step - loss: 1.6622 - accuracy: 0.6566 - val_loss: 0.4050 - val_accuracy: 0.8699\n",
      "Epoch 2/10\n",
      "107/107 [==============================] - 424s 4s/step - loss: 0.3004 - accuracy: 0.8875 - val_loss: 0.3781 - val_accuracy: 0.8675\n",
      "Epoch 3/10\n",
      "107/107 [==============================] - 426s 4s/step - loss: 0.1769 - accuracy: 0.9379 - val_loss: 0.3901 - val_accuracy: 0.8746\n",
      "Epoch 4/10\n",
      "107/107 [==============================] - 425s 4s/step - loss: 0.1033 - accuracy: 0.9645 - val_loss: 0.3891 - val_accuracy: 0.8886\n",
      "Epoch 5/10\n",
      "107/107 [==============================] - 424s 4s/step - loss: 0.0853 - accuracy: 0.9719 - val_loss: 0.3852 - val_accuracy: 0.8933\n",
      "Epoch 6/10\n",
      "107/107 [==============================] - 425s 4s/step - loss: 0.0624 - accuracy: 0.9771 - val_loss: 0.4190 - val_accuracy: 0.8851\n",
      "Epoch 7/10\n",
      "107/107 [==============================] - 425s 4s/step - loss: 0.0430 - accuracy: 0.9853 - val_loss: 0.4298 - val_accuracy: 0.8828\n",
      "Epoch 8/10\n",
      "107/107 [==============================] - 425s 4s/step - loss: 0.0308 - accuracy: 0.9927 - val_loss: 0.4393 - val_accuracy: 0.8875\n",
      "Epoch 9/10\n",
      "107/107 [==============================] - 426s 4s/step - loss: 0.0258 - accuracy: 0.9941 - val_loss: 0.4226 - val_accuracy: 0.8933\n",
      "Epoch 10/10\n",
      "107/107 [==============================] - 424s 4s/step - loss: 0.0252 - accuracy: 0.9925 - val_loss: 0.4582 - val_accuracy: 0.8945\n"
     ]
    },
    {
     "name": "stderr",
     "output_type": "stream",
     "text": [
      "D:\\Anaconda\\lib\\site-packages\\tensorflow\\python\\keras\\engine\\training.py:1880: UserWarning: `Model.evaluate_generator` is deprecated and will be removed in a future version. Please use `Model.evaluate`, which supports generators.\n",
      "  warnings.warn('`Model.evaluate_generator` is deprecated and '\n"
     ]
    },
    {
     "name": "stdout",
     "output_type": "stream",
     "text": [
      ">89.449\n"
     ]
    },
    {
     "data": {
      "image/png": "[encoded data removed]",
      "text/plain": [
       "<Figure size 432x288 with 2 Axes>"
      ]
     },
     "metadata": {
      "needs_background": "light"
     },
     "output_type": "display_data"
    }
   ],
   "source": [
    "run_model_resnet_2()"
   ]
  },
  {
   "cell_type": "code",
   "execution_count": 5,
   "metadata": {},
   "outputs": [],
   "source": [
    "def define_model_resnet_3():\n",
    "    # load model\n",
    "    model = ResNet50(include_top=False,input_shape=(224,224,3))\n",
    "    # mark loaded layers as not trainable\n",
    "    for layer in model.layers:\n",
    "        layer.trainable = False\n",
    "    # add new classifier layers\n",
    "    flat1 = Flatten()(model.layers[-1].output)\n",
    "    class1 = Dense(512,activation='relu',kernel_initializer='he_uniform')(flat1)\n",
    "    drop = Dropout(0.2)(class1)\n",
    "    output = Dense(5,activation='softmax')(drop)\n",
    "    # define new model\n",
    "    model = Model(inputs=model.inputs, outputs = output)\n",
    "    #compile model\n",
    "    opt = SGD(lr=0.001,momentum=0.9)\n",
    "    model.compile(optimizer=opt,loss='categorical_crossentropy',metrics=['accuracy'])\n",
    "    return model"
   ]
  },
  {
   "cell_type": "code",
   "execution_count": 6,
   "metadata": {},
   "outputs": [],
   "source": [
    "def run_model_resnet_3():\n",
    "    model = define_model_resnet_3()\n",
    "    datagen = ImageDataGenerator(featurewise_center=True)\n",
    "    \n",
    "    train_it = datagen.flow_from_directory('flowers5/train/',\n",
    "                class_mode='categorical',batch_size=64,target_size=(224,224))\n",
    "    test_it = datagen.flow_from_directory('flowers5/test/',\n",
    "            class_mode='categorical', batch_size=64, target_size=(224, 224))\n",
    "    #fit model\n",
    "    history = model.fit_generator(train_it,steps_per_epoch=len(train_it),\n",
    "            validation_data=test_it,validation_steps=len(test_it),epochs=10,verbose=1)\n",
    "    #evaluate model\n",
    "    _, acc = model.evaluate_generator(test_it, steps=len(test_it), verbose=0)\n",
    "    print('>%.3f' % (acc*100.0))\n",
    "    #plot of learning curves\n",
    "    summarize_diagnostics(history)\n",
    "    #save model\n",
    "    #model.save('flowers_model2.h5')\n",
    "    #converter = tf.lite.TFLiteConverter.from_keras_model(model)\n",
    "    #tflite_model = converter.convert()\n",
    "    #open(\"converted_model2.tflite\", \"wb\").write(tflite_model)"
   ]
  },
  {
   "cell_type": "code",
   "execution_count": 9,
   "metadata": {},
   "outputs": [
    {
     "name": "stdout",
     "output_type": "stream",
     "text": [
      "Found 6824 images belonging to 5 classes.\n",
      "Found 853 images belonging to 5 classes.\n"
     ]
    },
    {
     "name": "stderr",
     "output_type": "stream",
     "text": [
      "D:\\Anaconda\\lib\\site-packages\\tensorflow\\python\\keras\\engine\\training.py:1847: UserWarning: `Model.fit_generator` is deprecated and will be removed in a future version. Please use `Model.fit`, which supports generators.\n",
      "  warnings.warn('`Model.fit_generator` is deprecated and '\n",
      "D:\\Anaconda\\lib\\site-packages\\keras_preprocessing\\image\\image_data_generator.py:720: UserWarning: This ImageDataGenerator specifies `featurewise_center`, but it hasn't been fit on any training data. Fit it first by calling `.fit(numpy_data)`.\n",
      "  warnings.warn('This ImageDataGenerator specifies '\n"
     ]
    },
    {
     "name": "stdout",
     "output_type": "stream",
     "text": [
      "Epoch 1/10\n",
      "107/107 [==============================] - 535s 5s/step - loss: 1.2641 - accuracy: 0.7185 - val_loss: 0.3833 - val_accuracy: 0.8710\n",
      "Epoch 2/10\n",
      "107/107 [==============================] - 554s 5s/step - loss: 0.1571 - accuracy: 0.9517 - val_loss: 0.3970 - val_accuracy: 0.8746\n",
      "Epoch 3/10\n",
      "107/107 [==============================] - 545s 5s/step - loss: 0.0472 - accuracy: 0.9888 - val_loss: 0.3991 - val_accuracy: 0.8886\n",
      "Epoch 4/10\n",
      "107/107 [==============================] - 541s 5s/step - loss: 0.0199 - accuracy: 0.9959 - val_loss: 0.4249 - val_accuracy: 0.8886\n",
      "Epoch 5/10\n",
      "107/107 [==============================] - 547s 5s/step - loss: 0.0108 - accuracy: 0.9986 - val_loss: 0.4358 - val_accuracy: 0.8898\n",
      "Epoch 6/10\n",
      "107/107 [==============================] - 545s 5s/step - loss: 0.0107 - accuracy: 0.9985 - val_loss: 0.4487 - val_accuracy: 0.8875\n",
      "Epoch 7/10\n",
      "107/107 [==============================] - 549s 5s/step - loss: 0.0108 - accuracy: 0.9982 - val_loss: 0.4560 - val_accuracy: 0.8851\n",
      "Epoch 8/10\n",
      "107/107 [==============================] - 549s 5s/step - loss: 0.0053 - accuracy: 0.9997 - val_loss: 0.4531 - val_accuracy: 0.8921\n",
      "Epoch 9/10\n",
      "107/107 [==============================] - 555s 5s/step - loss: 0.0048 - accuracy: 0.9996 - val_loss: 0.4585 - val_accuracy: 0.8898\n",
      "Epoch 10/10\n",
      "107/107 [==============================] - 544s 5s/step - loss: 0.0050 - accuracy: 0.9988 - val_loss: 0.4665 - val_accuracy: 0.8886\n"
     ]
    },
    {
     "name": "stderr",
     "output_type": "stream",
     "text": [
      "D:\\Anaconda\\lib\\site-packages\\tensorflow\\python\\keras\\engine\\training.py:1880: UserWarning: `Model.evaluate_generator` is deprecated and will be removed in a future version. Please use `Model.evaluate`, which supports generators.\n",
      "  warnings.warn('`Model.evaluate_generator` is deprecated and '\n"
     ]
    },
    {
     "name": "stdout",
     "output_type": "stream",
     "text": [
      ">88.863\n"
     ]
    },
    {
     "data": {
      "image/png": "[encoded data removed]",
      "text/plain": [
       "<Figure size 432x288 with 2 Axes>"
      ]
     },
     "metadata": {
      "needs_background": "light"
     },
     "output_type": "display_data"
    }
   ],
   "source": [
    "run_model_resnet_3()"
   ]
  },
  {
   "cell_type": "code",
   "execution_count": null,
   "metadata": {},
   "outputs": [],
   "source": []
  }
 ],
 "metadata": {
  "kernelspec": {
   "display_name": "Python 3",
   "language": "python",
   "name": "python3"
  },
  "language_info": {
   "codemirror_mode": {
    "name": "ipython",
    "version": 3
   },
   "file_extension": ".py",
   "mimetype": "text/x-python",
   "name": "python",
   "nbconvert_exporter": "python",
   "pygments_lexer": "ipython3",
   "version": "3.8.3"
  }
 },
 "nbformat": 4,
 "nbformat_minor": 4
}
