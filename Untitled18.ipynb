{
 "cells": [
  {
   "cell_type": "code",
   "execution_count": 1,
   "metadata": {},
   "outputs": [],
   "source": [
    "from os import makedirs \n",
    "from os import listdir\n",
    "from shutil import copyfile\n",
    "from random import seed\n",
    "from random import random"
   ]
  },
  {
   "cell_type": "code",
   "execution_count": 2,
   "metadata": {},
   "outputs": [],
   "source": [
    "import sys\n",
    "from matplotlib import pyplot\n",
    "from tensorflow.keras.utils import to_categorical\n",
    "from tensorflow.keras.models import Sequential\n",
    "from tensorflow.keras.layers import Conv2D\n",
    "from tensorflow.keras.layers import MaxPooling2D\n",
    "from tensorflow.keras.layers import Dense\n",
    "from tensorflow.keras.layers import Flatten\n",
    "from tensorflow.keras.optimizers import SGD\n",
    "from tensorflow.keras.preprocessing.image import ImageDataGenerator\n",
    "import tensorflow as tf"
   ]
  },
  {
   "cell_type": "code",
   "execution_count": 3,
   "metadata": {},
   "outputs": [],
   "source": [
    "from tensorflow.keras.applications.vgg16 import VGG16\n",
    "from tensorflow.keras.models import Model"
   ]
  },
  {
   "cell_type": "code",
   "execution_count": 4,
   "metadata": {},
   "outputs": [],
   "source": [
    "def summarize_diagnostics(history):\n",
    "    #plot loss\n",
    "    pyplot.subplot(211)\n",
    "    pyplot.title('Cross Entropy Loss')\n",
    "    #blue = train, orange = test\n",
    "    pyplot.plot(history.history['loss'],color='blue',label='train')\n",
    "    pyplot.plot(history.history['val_loss'], color='orange', label='test')\n",
    "    #plot accuracy\n",
    "    pyplot.subplot(212)\n",
    "    pyplot.title('Classification Accuracy')\n",
    "    pyplot.plot(history.history['accuracy'], color='blue', label='train')\n",
    "    pyplot.plot(history.history['val_accuracy'], color='orange', label='test')\n",
    "    pyplot.tight_layout()\n",
    "    #save plot to file\n",
    "    filename = sys.argv[0].split('/')[-1]\n",
    "    pyplot.savefig(filename + '_plot.png')\n",
    "    pyplot.show()\n",
    "    pyplot.close()"
   ]
  },
  {
   "cell_type": "code",
   "execution_count": 5,
   "metadata": {},
   "outputs": [],
   "source": [
    "def define_model_vgg_16():\n",
    "    # load model\n",
    "    model = VGG16(include_top=False,input_shape=(224,224,3))\n",
    "    # mark loaded layers as not trainable\n",
    "    for layer in model.layers:\n",
    "        layer.trainable = False\n",
    "    # add new classifier layers\n",
    "    flat1 = Flatten()(model.layers[-1].output)\n",
    "    class1 = Dense(128,activation='relu',kernel_initializer='he_uniform')(flat1)\n",
    "    output = Dense(5,activation='softmax')(class1)\n",
    "    # define new model\n",
    "    model = Model(inputs=model.inputs, outputs = output)\n",
    "    #compile model\n",
    "    opt = SGD(lr=0.001,momentum=0.9)\n",
    "    model.compile(optimizer=opt,loss='categorical_crossentropy',metrics=['accuracy'])\n",
    "    return model"
   ]
  },
  {
   "cell_type": "code",
   "execution_count": 5,
   "metadata": {},
   "outputs": [],
   "source": [
    "from tensorflow.keras.applications.vgg16 import VGG16\n",
    "from tensorflow.keras.models import Model"
   ]
  },
  {
   "cell_type": "code",
   "execution_count": 7,
   "metadata": {},
   "outputs": [],
   "source": [
    "def run_model_vgg16():\n",
    "    model = define_model_vgg_16()\n",
    "    datagen = ImageDataGenerator(featurewise_center=True)\n",
    "    #datagen.mean = [123.68,116.779,103.939]\n",
    "    #prepare train and test iterators\n",
    "    #train_datagen = ImageDataGenerator(rescale = 1./255, zoom_range = 0.3, rotation_range = 50,\n",
    "    #                                   width_shift_range = 0.2, height_shift_range = 0.2, shear_range = 0.2, \n",
    "    #                                   horizontal_flip = True, fill_mode = 'nearest')\n",
    "    #test_datagen = ImageDataGenerator(rescale=1./255)\n",
    "    \n",
    "    train_it = datagen.flow_from_directory('flowers5/train/',\n",
    "                class_mode='categorical',batch_size=64,target_size=(224,224))\n",
    "    test_it = datagen.flow_from_directory('flowers5/test/',\n",
    "            class_mode='categorical', batch_size=64, target_size=(224, 224))\n",
    "    #fit model\n",
    "    history = model.fit_generator(train_it,steps_per_epoch=len(train_it),\n",
    "            validation_data=test_it,validation_steps=len(test_it),epochs=10,verbose=1)\n",
    "    #evaluate model\n",
    "    _, acc = model.evaluate_generator(test_it, steps=len(test_it), verbose=0)\n",
    "    print('>%.3f' % (acc*100.0))\n",
    "    #plot of learning curves\n",
    "    summarize_diagnostics(history)\n",
    "    #save model\n",
    "    #model.save('flowers_model2.h5')\n",
    "    #converter = tf.lite.TFLiteConverter.from_keras_model(model)\n",
    "    #tflite_model = converter.convert()\n",
    "    #open(\"converted_model2.tflite\", \"wb\").write(tflite_model)"
   ]
  },
  {
   "cell_type": "code",
   "execution_count": 8,
   "metadata": {
    "scrolled": false
   },
   "outputs": [
    {
     "name": "stdout",
     "output_type": "stream",
     "text": [
      "Found 6824 images belonging to 5 classes.\n",
      "Found 853 images belonging to 5 classes.\n"
     ]
    },
    {
     "name": "stderr",
     "output_type": "stream",
     "text": [
      "D:\\Anaconda\\lib\\site-packages\\tensorflow\\python\\keras\\engine\\training.py:1847: UserWarning: `Model.fit_generator` is deprecated and will be removed in a future version. Please use `Model.fit`, which supports generators.\n",
      "  warnings.warn('`Model.fit_generator` is deprecated and '\n",
      "D:\\Anaconda\\lib\\site-packages\\keras_preprocessing\\image\\image_data_generator.py:720: UserWarning: This ImageDataGenerator specifies `featurewise_center`, but it hasn't been fit on any training data. Fit it first by calling `.fit(numpy_data)`.\n",
      "  warnings.warn('This ImageDataGenerator specifies '\n"
     ]
    },
    {
     "name": "stdout",
     "output_type": "stream",
     "text": [
      "Epoch 1/10\n",
      "107/107 [==============================] - 1277s 12s/step - loss: 3.9491 - accuracy: 0.6110 - val_loss: 0.6759 - val_accuracy: 0.7819\n",
      "Epoch 2/10\n",
      "107/107 [==============================] - 1238s 12s/step - loss: 0.3544 - accuracy: 0.8650 - val_loss: 0.6365 - val_accuracy: 0.8124\n",
      "Epoch 3/10\n",
      "107/107 [==============================] - 1220s 11s/step - loss: 0.1892 - accuracy: 0.9264 - val_loss: 0.7531 - val_accuracy: 0.8230\n",
      "Epoch 4/10\n",
      "107/107 [==============================] - 1243s 12s/step - loss: 0.1106 - accuracy: 0.9548 - val_loss: 0.8470 - val_accuracy: 0.8288\n",
      "Epoch 5/10\n",
      "107/107 [==============================] - 1263s 12s/step - loss: 0.0608 - accuracy: 0.9758 - val_loss: 0.8517 - val_accuracy: 0.8300\n",
      "Epoch 6/10\n",
      "107/107 [==============================] - 1344s 13s/step - loss: 0.0417 - accuracy: 0.9867 - val_loss: 1.0156 - val_accuracy: 0.8324\n",
      "Epoch 7/10\n",
      "107/107 [==============================] - 1357s 13s/step - loss: 0.0298 - accuracy: 0.9899 - val_loss: 1.0576 - val_accuracy: 0.8312\n",
      "Epoch 8/10\n",
      "107/107 [==============================] - 1320s 12s/step - loss: 0.0270 - accuracy: 0.9897 - val_loss: 1.0511 - val_accuracy: 0.8370\n",
      "Epoch 9/10\n",
      "107/107 [==============================] - 1265s 12s/step - loss: 0.0190 - accuracy: 0.9918 - val_loss: 1.0886 - val_accuracy: 0.8288\n",
      "Epoch 10/10\n",
      "107/107 [==============================] - 1278s 12s/step - loss: 0.0174 - accuracy: 0.9930 - val_loss: 1.0981 - val_accuracy: 0.8382\n"
     ]
    },
    {
     "name": "stderr",
     "output_type": "stream",
     "text": [
      "D:\\Anaconda\\lib\\site-packages\\tensorflow\\python\\keras\\engine\\training.py:1880: UserWarning: `Model.evaluate_generator` is deprecated and will be removed in a future version. Please use `Model.evaluate`, which supports generators.\n",
      "  warnings.warn('`Model.evaluate_generator` is deprecated and '\n"
     ]
    },
    {
     "name": "stdout",
     "output_type": "stream",
     "text": [
      ">83.822\n"
     ]
    },
    {
     "data": {
      "image/png": "[encoded data removed]",
      "text/plain": [
       "<Figure size 432x288 with 2 Axes>"
      ]
     },
     "metadata": {
      "needs_background": "light"
     },
     "output_type": "display_data"
    }
   ],
   "source": [
    "run_model_vgg16()"
   ]
  },
  {
   "cell_type": "code",
   "execution_count": 5,
   "metadata": {},
   "outputs": [],
   "source": [
    "def define_model_vgg_16_2():\n",
    "    # load model\n",
    "    model = VGG16(include_top=False,input_shape=(224,224,3),weights=\"imagenet\")\n",
    "    # mark loaded layers as not trainable\n",
    "    for layer in model.layers:\n",
    "        layer.trainable = False\n",
    "    # add new classifier layers\n",
    "    flat1 = Flatten()(model.layers[-1].output)\n",
    "    class1 = Dense(128,activation='relu',kernel_initializer='he_uniform')(flat1)\n",
    "    output = Dense(5,activation='softmax')(class1)\n",
    "    # define new model\n",
    "    model = Model(inputs=model.inputs, outputs = output)\n",
    "    #compile model\n",
    "    opt = SGD(lr=0.001,momentum=0.9)\n",
    "    model.compile(optimizer=opt,loss='categorical_crossentropy',metrics=['accuracy'])\n",
    "    return model"
   ]
  },
  {
   "cell_type": "code",
   "execution_count": 6,
   "metadata": {},
   "outputs": [],
   "source": [
    "def run_model_vgg16_2():\n",
    "    model = define_model_vgg_16_2()\n",
    "    datagen = ImageDataGenerator(featurewise_center=True)\n",
    "    #datagen.mean = [123.68,116.779,103.939]\n",
    "    #prepare train and test iterators\n",
    "    #train_datagen = ImageDataGenerator(rescale = 1./255, zoom_range = 0.3, rotation_range = 50,\n",
    "    #                                   width_shift_range = 0.2, height_shift_range = 0.2, shear_range = 0.2, \n",
    "    #                                   horizontal_flip = True, fill_mode = 'nearest')\n",
    "    #test_datagen = ImageDataGenerator(rescale=1./255)\n",
    "    \n",
    "    train_it = datagen.flow_from_directory('flowers5/train/',\n",
    "                class_mode='categorical',batch_size=64,target_size=(224,224))\n",
    "    test_it = datagen.flow_from_directory('flowers5/test/',\n",
    "            class_mode='categorical', batch_size=64, target_size=(224, 224))\n",
    "    #fit model\n",
    "    history = model.fit_generator(train_it,steps_per_epoch=len(train_it),\n",
    "            validation_data=test_it,validation_steps=len(test_it),epochs=10,verbose=1)\n",
    "    #evaluate model\n",
    "    _, acc = model.evaluate_generator(test_it, steps=len(test_it), verbose=0)\n",
    "    print('>%.3f' % (acc*100.0))\n",
    "    #plot of learning curves\n",
    "    summarize_diagnostics(history)\n",
    "    #save model\n",
    "    #model.save('flowers_model2.h5')\n",
    "    #converter = tf.lite.TFLiteConverter.from_keras_model(model)\n",
    "    #tflite_model = converter.convert()\n",
    "    #open(\"converted_model2.tflite\", \"wb\").write(tflite_model)"
   ]
  },
  {
   "cell_type": "code",
   "execution_count": 7,
   "metadata": {},
   "outputs": [
    {
     "name": "stdout",
     "output_type": "stream",
     "text": [
      "Found 6824 images belonging to 5 classes.\n",
      "Found 853 images belonging to 5 classes.\n"
     ]
    },
    {
     "name": "stderr",
     "output_type": "stream",
     "text": [
      "D:\\Anaconda\\lib\\site-packages\\tensorflow\\python\\keras\\engine\\training.py:1847: UserWarning: `Model.fit_generator` is deprecated and will be removed in a future version. Please use `Model.fit`, which supports generators.\n",
      "  warnings.warn('`Model.fit_generator` is deprecated and '\n",
      "D:\\Anaconda\\lib\\site-packages\\keras_preprocessing\\image\\image_data_generator.py:720: UserWarning: This ImageDataGenerator specifies `featurewise_center`, but it hasn't been fit on any training data. Fit it first by calling `.fit(numpy_data)`.\n",
      "  warnings.warn('This ImageDataGenerator specifies '\n"
     ]
    },
    {
     "name": "stdout",
     "output_type": "stream",
     "text": [
      "Epoch 1/10\n",
      "107/107 [==============================] - 1223s 11s/step - loss: 4.4153 - accuracy: 0.5964 - val_loss: 0.6507 - val_accuracy: 0.7843\n",
      "Epoch 2/10\n",
      "107/107 [==============================] - 1237s 12s/step - loss: 0.3595 - accuracy: 0.8661 - val_loss: 0.6371 - val_accuracy: 0.7972\n",
      "Epoch 3/10\n",
      "107/107 [==============================] - 1308s 12s/step - loss: 0.1746 - accuracy: 0.9342 - val_loss: 0.6174 - val_accuracy: 0.8347\n",
      "Epoch 4/10\n",
      "107/107 [==============================] - 1386s 13s/step - loss: 0.1013 - accuracy: 0.9608 - val_loss: 0.7211 - val_accuracy: 0.8382\n",
      "Epoch 5/10\n",
      "107/107 [==============================] - 1349s 13s/step - loss: 0.0582 - accuracy: 0.9782 - val_loss: 0.8271 - val_accuracy: 0.8265\n",
      "Epoch 6/10\n",
      "107/107 [==============================] - 1123s 10s/step - loss: 0.0376 - accuracy: 0.9860 - val_loss: 0.8104 - val_accuracy: 0.8429\n",
      "Epoch 7/10\n",
      "107/107 [==============================] - 1020s 10s/step - loss: 0.0336 - accuracy: 0.9871 - val_loss: 0.8450 - val_accuracy: 0.8359\n",
      "Epoch 8/10\n",
      "107/107 [==============================] - 1020s 10s/step - loss: 0.0256 - accuracy: 0.9894 - val_loss: 0.9481 - val_accuracy: 0.8394\n",
      "Epoch 9/10\n",
      "107/107 [==============================] - 1024s 10s/step - loss: 0.0273 - accuracy: 0.9868 - val_loss: 0.9767 - val_accuracy: 0.8429\n",
      "Epoch 10/10\n",
      "107/107 [==============================] - 1021s 10s/step - loss: 0.0279 - accuracy: 0.9878 - val_loss: 0.9399 - val_accuracy: 0.8441\n"
     ]
    },
    {
     "name": "stderr",
     "output_type": "stream",
     "text": [
      "D:\\Anaconda\\lib\\site-packages\\tensorflow\\python\\keras\\engine\\training.py:1880: UserWarning: `Model.evaluate_generator` is deprecated and will be removed in a future version. Please use `Model.evaluate`, which supports generators.\n",
      "  warnings.warn('`Model.evaluate_generator` is deprecated and '\n"
     ]
    },
    {
     "name": "stdout",
     "output_type": "stream",
     "text": [
      ">84.408\n"
     ]
    },
    {
     "data": {
      "image/png": "[encoded data removed]",
      "text/plain": [
       "<Figure size 432x288 with 2 Axes>"
      ]
     },
     "metadata": {
      "needs_background": "light"
     },
     "output_type": "display_data"
    }
   ],
   "source": [
    "run_model_vgg16_2()"
   ]
  },
  {
   "cell_type": "code",
   "execution_count": 6,
   "metadata": {},
   "outputs": [],
   "source": [
    "def define_model_vgg_16_3():\n",
    "    # load model\n",
    "    model = VGG16(include_top=False,input_shape=(224,224,3))\n",
    "    # mark loaded layers as not trainable\n",
    "    for layer in model.layers:\n",
    "        layer.trainable = False\n",
    "    # add new classifier layers\n",
    "    flat1 = Flatten()(model.layers[-1].output)\n",
    "    class1 = Dense(512,activation='relu',kernel_initializer='he_uniform')(flat1)\n",
    "    output = Dense(5,activation='softmax')(class1)\n",
    "    # define new model\n",
    "    model = Model(inputs=model.inputs, outputs = output)\n",
    "    #compile model\n",
    "    opt = SGD(lr=0.001,momentum=0.9)\n",
    "    model.compile(optimizer=opt,loss='categorical_crossentropy',metrics=['accuracy'])\n",
    "    return model"
   ]
  },
  {
   "cell_type": "code",
   "execution_count": 7,
   "metadata": {},
   "outputs": [],
   "source": [
    "def run_model_vgg16_3():\n",
    "    model = define_model_vgg_16_3()\n",
    "    datagen = ImageDataGenerator(featurewise_center=True)\n",
    "    #datagen.mean = [123.68,116.779,103.939]\n",
    "    #prepare train and test iterators\n",
    "    #train_datagen = ImageDataGenerator(rescale = 1./255, zoom_range = 0.3, rotation_range = 50,\n",
    "    #                                   width_shift_range = 0.2, height_shift_range = 0.2, shear_range = 0.2, \n",
    "    #                                   horizontal_flip = True, fill_mode = 'nearest')\n",
    "    #test_datagen = ImageDataGenerator(rescale=1./255)\n",
    "    \n",
    "    train_it = datagen.flow_from_directory('flowers5/train/',\n",
    "                class_mode='categorical',batch_size=64,target_size=(224,224))\n",
    "    test_it = datagen.flow_from_directory('flowers5/test/',\n",
    "            class_mode='categorical', batch_size=64, target_size=(224, 224))\n",
    "    #fit model\n",
    "    history = model.fit_generator(train_it,steps_per_epoch=len(train_it),\n",
    "            validation_data=test_it,validation_steps=len(test_it),epochs=10,verbose=1)\n",
    "    #evaluate model\n",
    "    _, acc = model.evaluate_generator(test_it, steps=len(test_it), verbose=0)\n",
    "    print('>%.3f' % (acc*100.0))\n",
    "    #plot of learning curves\n",
    "    summarize_diagnostics(history)\n",
    "    #save model\n",
    "    #model.save('flowers_model2.h5')\n",
    "    #converter = tf.lite.TFLiteConverter.from_keras_model(model)\n",
    "    #tflite_model = converter.convert()\n",
    "    #open(\"converted_model2.tflite\", \"wb\").write(tflite_model)"
   ]
  },
  {
   "cell_type": "code",
   "execution_count": 8,
   "metadata": {},
   "outputs": [
    {
     "name": "stdout",
     "output_type": "stream",
     "text": [
      "Found 6824 images belonging to 5 classes.\n",
      "Found 853 images belonging to 5 classes.\n"
     ]
    },
    {
     "name": "stderr",
     "output_type": "stream",
     "text": [
      "D:\\Anaconda\\lib\\site-packages\\tensorflow\\python\\keras\\engine\\training.py:1847: UserWarning: `Model.fit_generator` is deprecated and will be removed in a future version. Please use `Model.fit`, which supports generators.\n",
      "  warnings.warn('`Model.fit_generator` is deprecated and '\n",
      "D:\\Anaconda\\lib\\site-packages\\keras_preprocessing\\image\\image_data_generator.py:720: UserWarning: This ImageDataGenerator specifies `featurewise_center`, but it hasn't been fit on any training data. Fit it first by calling `.fit(numpy_data)`.\n",
      "  warnings.warn('This ImageDataGenerator specifies '\n"
     ]
    },
    {
     "name": "stdout",
     "output_type": "stream",
     "text": [
      "Epoch 1/10\n",
      "107/107 [==============================] - 1253s 12s/step - loss: 13.2673 - accuracy: 0.6195 - val_loss: 0.6380 - val_accuracy: 0.8077\n",
      "Epoch 2/10\n",
      "107/107 [==============================] - 1254s 12s/step - loss: 0.2200 - accuracy: 0.9242 - val_loss: 0.7327 - val_accuracy: 0.8206\n",
      "Epoch 3/10\n",
      "107/107 [==============================] - 1241s 12s/step - loss: 0.0834 - accuracy: 0.9708 - val_loss: 0.7573 - val_accuracy: 0.8335\n",
      "Epoch 4/10\n",
      "107/107 [==============================] - 1261s 12s/step - loss: 0.0302 - accuracy: 0.9939 - val_loss: 0.9137 - val_accuracy: 0.8394\n",
      "Epoch 5/10\n",
      "107/107 [==============================] - 1325s 12s/step - loss: 0.0104 - accuracy: 0.9985 - val_loss: 0.9782 - val_accuracy: 0.8300\n",
      "Epoch 6/10\n",
      "107/107 [==============================] - 1335s 12s/step - loss: 0.0076 - accuracy: 0.9989 - val_loss: 0.9919 - val_accuracy: 0.8406\n",
      "Epoch 7/10\n",
      "107/107 [==============================] - 1275s 12s/step - loss: 0.0083 - accuracy: 0.9988 - val_loss: 1.0097 - val_accuracy: 0.8382\n",
      "Epoch 8/10\n",
      "107/107 [==============================] - 1254s 12s/step - loss: 0.0036 - accuracy: 0.9991 - val_loss: 1.0320 - val_accuracy: 0.8499\n",
      "Epoch 9/10\n",
      "107/107 [==============================] - 1247s 12s/step - loss: 0.0031 - accuracy: 0.9996 - val_loss: 1.0479 - val_accuracy: 0.8417\n",
      "Epoch 10/10\n",
      "107/107 [==============================] - 1296s 12s/step - loss: 0.0047 - accuracy: 0.9987 - val_loss: 1.0689 - val_accuracy: 0.8511\n"
     ]
    },
    {
     "name": "stderr",
     "output_type": "stream",
     "text": [
      "D:\\Anaconda\\lib\\site-packages\\tensorflow\\python\\keras\\engine\\training.py:1880: UserWarning: `Model.evaluate_generator` is deprecated and will be removed in a future version. Please use `Model.evaluate`, which supports generators.\n",
      "  warnings.warn('`Model.evaluate_generator` is deprecated and '\n"
     ]
    },
    {
     "name": "stdout",
     "output_type": "stream",
     "text": [
      ">85.111\n"
     ]
    },
    {
     "data": {
      "image/png": "[encoded data removed]",
      "text/plain": [
       "<Figure size 432x288 with 2 Axes>"
      ]
     },
     "metadata": {
      "needs_background": "light"
     },
     "output_type": "display_data"
    }
   ],
   "source": [
    "run_model_vgg16_3()"
   ]
  },
  {
   "cell_type": "code",
   "execution_count": 5,
   "metadata": {},
   "outputs": [],
   "source": [
    "from tensorflow.keras.layers import Dropout"
   ]
  },
  {
   "cell_type": "code",
   "execution_count": 6,
   "metadata": {},
   "outputs": [],
   "source": [
    "def define_model_vgg_16_4():\n",
    "    # load model\n",
    "    model = VGG16(include_top = False,input_shape=(224,224,3))\n",
    "    # mark loaded layers as not trainable\n",
    "    for layer in model.layers:\n",
    "        layer.trainable = False\n",
    "    # add new classifier layers\n",
    "    flat1 = Flatten()(model.layers[-1].output)\n",
    "    class1 = Dense(512,activation='relu',kernel_initializer='he_uniform')(flat1)\n",
    "    drop = Dropout(0.3)(class1)\n",
    "    output = Dense(5,activation='softmax')(class1)\n",
    "    # define new model\n",
    "    model = Model(inputs=model.inputs, outputs = output)\n",
    "    #compile model\n",
    "    opt = SGD(lr=0.001,momentum=0.9)\n",
    "    model.compile(optimizer=opt,loss='categorical_crossentropy',metrics=['accuracy'])\n",
    "    return model"
   ]
  },
  {
   "cell_type": "code",
   "execution_count": 7,
   "metadata": {},
   "outputs": [],
   "source": [
    "def run_model_vgg16_4():\n",
    "    model = define_model_vgg_16_4()\n",
    "    datagen = ImageDataGenerator(featurewise_center=True)\n",
    "    #datagen.mean = [123.68,116.779,103.939]\n",
    "    #prepare train and test iterators\n",
    "    #train_datagen = ImageDataGenerator(rescale = 1./255, zoom_range = 0.3, rotation_range = 50,\n",
    "    #                                   width_shift_range = 0.2, height_shift_range = 0.2, shear_range = 0.2, \n",
    "    #                                   horizontal_flip = True, fill_mode = 'nearest')\n",
    "    #test_datagen = ImageDataGenerator(rescale=1./255)\n",
    "    \n",
    "    train_it = datagen.flow_from_directory('flowers5/train/',\n",
    "                class_mode='categorical',batch_size=64,target_size=(224,224))\n",
    "    test_it = datagen.flow_from_directory('flowers5/test/',\n",
    "            class_mode='categorical', batch_size=64, target_size=(224, 224))\n",
    "    #fit model\n",
    "    history = model.fit_generator(train_it,steps_per_epoch=len(train_it),\n",
    "            validation_data=test_it,validation_steps=len(test_it),epochs=10,verbose=1)\n",
    "    #evaluate model\n",
    "    _, acc = model.evaluate_generator(test_it, steps=len(test_it), verbose=0)\n",
    "    print('>%.3f' % (acc*100.0))\n",
    "    #plot of learning curves\n",
    "    summarize_diagnostics(history)\n",
    "    #save model\n",
    "    #model.save('flowers_model2.h5')\n",
    "    #converter = tf.lite.TFLiteConverter.from_keras_model(model)\n",
    "    #tflite_model = converter.convert()\n",
    "    #open(\"converted_model2.tflite\", \"wb\").write(tflite_model)"
   ]
  },
  {
   "cell_type": "code",
   "execution_count": 8,
   "metadata": {},
   "outputs": [
    {
     "name": "stdout",
     "output_type": "stream",
     "text": [
      "Found 6824 images belonging to 5 classes.\n",
      "Found 853 images belonging to 5 classes.\n"
     ]
    },
    {
     "name": "stderr",
     "output_type": "stream",
     "text": [
      "D:\\Anaconda\\lib\\site-packages\\tensorflow\\python\\keras\\engine\\training.py:1847: UserWarning: `Model.fit_generator` is deprecated and will be removed in a future version. Please use `Model.fit`, which supports generators.\n",
      "  warnings.warn('`Model.fit_generator` is deprecated and '\n",
      "D:\\Anaconda\\lib\\site-packages\\keras_preprocessing\\image\\image_data_generator.py:720: UserWarning: This ImageDataGenerator specifies `featurewise_center`, but it hasn't been fit on any training data. Fit it first by calling `.fit(numpy_data)`.\n",
      "  warnings.warn('This ImageDataGenerator specifies '\n"
     ]
    },
    {
     "name": "stdout",
     "output_type": "stream",
     "text": [
      "Epoch 1/10\n",
      "107/107 [==============================] - 1271s 12s/step - loss: 6.8367 - accuracy: 0.6589 - val_loss: 0.6836 - val_accuracy: 0.8265\n",
      "Epoch 2/10\n",
      "107/107 [==============================] - 1268s 12s/step - loss: 0.1968 - accuracy: 0.9319 - val_loss: 0.6965 - val_accuracy: 0.8359\n",
      "Epoch 3/10\n",
      "107/107 [==============================] - 1265s 12s/step - loss: 0.0543 - accuracy: 0.9846 - val_loss: 0.7947 - val_accuracy: 0.8453\n",
      "Epoch 4/10\n",
      "107/107 [==============================] - 1258s 12s/step - loss: 0.0197 - accuracy: 0.9970 - val_loss: 0.8433 - val_accuracy: 0.8558\n",
      "Epoch 5/10\n",
      "107/107 [==============================] - 1267s 12s/step - loss: 0.0084 - accuracy: 0.9991 - val_loss: 0.8849 - val_accuracy: 0.8605\n",
      "Epoch 6/10\n",
      "107/107 [==============================] - 1270s 12s/step - loss: 0.0058 - accuracy: 0.9991 - val_loss: 0.9100 - val_accuracy: 0.8570\n",
      "Epoch 7/10\n",
      "107/107 [==============================] - 1270s 12s/step - loss: 0.0037 - accuracy: 0.9996 - val_loss: 0.9356 - val_accuracy: 0.8570\n",
      "Epoch 8/10\n",
      "107/107 [==============================] - 1272s 12s/step - loss: 0.0028 - accuracy: 0.9995 - val_loss: 0.9491 - val_accuracy: 0.8570\n",
      "Epoch 9/10\n",
      "107/107 [==============================] - 1270s 12s/step - loss: 0.0018 - accuracy: 0.9999 - val_loss: 0.9742 - val_accuracy: 0.8523\n",
      "Epoch 10/10\n",
      "107/107 [==============================] - 1282s 12s/step - loss: 0.0014 - accuracy: 0.9999 - val_loss: 0.9930 - val_accuracy: 0.8617\n"
     ]
    },
    {
     "name": "stderr",
     "output_type": "stream",
     "text": [
      "D:\\Anaconda\\lib\\site-packages\\tensorflow\\python\\keras\\engine\\training.py:1880: UserWarning: `Model.evaluate_generator` is deprecated and will be removed in a future version. Please use `Model.evaluate`, which supports generators.\n",
      "  warnings.warn('`Model.evaluate_generator` is deprecated and '\n"
     ]
    },
    {
     "name": "stdout",
     "output_type": "stream",
     "text": [
      ">86.166\n"
     ]
    },
    {
     "data": {
      "image/png": "[encoded data removed]",
      "text/plain": [
       "<Figure size 432x288 with 2 Axes>"
      ]
     },
     "metadata": {
      "needs_background": "light"
     },
     "output_type": "display_data"
    }
   ],
   "source": [
    "run_model_vgg16_4()"
   ]
  },
  {
   "cell_type": "code",
   "execution_count": null,
   "metadata": {},
   "outputs": [],
   "source": []
  }
 ],
 "metadata": {
  "kernelspec": {
   "display_name": "Python 3",
   "language": "python",
   "name": "python3"
  },
  "language_info": {
   "codemirror_mode": {
    "name": "ipython",
    "version": 3
   },
   "file_extension": ".py",
   "mimetype": "text/x-python",
   "name": "python",
   "nbconvert_exporter": "python",
   "pygments_lexer": "ipython3",
   "version": "3.8.3"
  }
 },
 "nbformat": 4,
 "nbformat_minor": 4
}
