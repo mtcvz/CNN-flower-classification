{
 "cells": [
  {
   "cell_type": "code",
   "execution_count": 1,
   "metadata": {},
   "outputs": [],
   "source": [
    "from os import makedirs \n",
    "from os import listdir\n",
    "from shutil import copyfile\n",
    "from random import seed\n",
    "from random import random"
   ]
  },
  {
   "cell_type": "code",
   "execution_count": 2,
   "metadata": {},
   "outputs": [],
   "source": [
    "dataset_home = 'flowers2/'"
   ]
  },
  {
   "cell_type": "code",
   "execution_count": 8,
   "metadata": {},
   "outputs": [],
   "source": [
    "subdirs = ['train/','test/']\n",
    "labeldirs = ['daisy/','dandelion/','rose/','sunflower/','tulip/']"
   ]
  },
  {
   "cell_type": "code",
   "execution_count": 9,
   "metadata": {},
   "outputs": [],
   "source": [
    "for subdir in subdirs:\n",
    "    for labldir in labeldirs:\n",
    "        newdir = dataset_home + '/' + subdir + labldir\n",
    "        makedirs(newdir,exist_ok = True)"
   ]
  },
  {
   "cell_type": "code",
   "execution_count": 10,
   "metadata": {},
   "outputs": [],
   "source": [
    "seed(1)\n",
    "val_ratio = 0.20"
   ]
  },
  {
   "cell_type": "code",
   "execution_count": 11,
   "metadata": {},
   "outputs": [],
   "source": [
    "src_directory = 'flower_photos/'"
   ]
  },
  {
   "cell_type": "code",
   "execution_count": 12,
   "metadata": {},
   "outputs": [],
   "source": [
    "for labels in labeldirs:\n",
    "    for file in listdir(src_directory+labels):\n",
    "        src = src_directory + '/' + labels + '/' + file\n",
    "        dst_dir = 'train/'\n",
    "        if random() < val_ratio:\n",
    "            dst_dir = 'test/'\n",
    "        dst = dataset_home + dst_dir + labels + file\n",
    "        copyfile(src,dst)  "
   ]
  },
  {
   "cell_type": "code",
   "execution_count": 2,
   "metadata": {},
   "outputs": [],
   "source": [
    "import sys\n",
    "from matplotlib import pyplot\n",
    "from tensorflow.keras.utils import to_categorical\n",
    "from tensorflow.keras.models import Sequential\n",
    "from tensorflow.keras.layers import Conv2D\n",
    "from tensorflow.keras.layers import MaxPooling2D\n",
    "from tensorflow.keras.layers import Dense\n",
    "from tensorflow.keras.layers import Flatten\n",
    "from tensorflow.keras.optimizers import SGD\n",
    "from tensorflow.keras.preprocessing.image import ImageDataGenerator\n",
    "import tensorflow as tf"
   ]
  },
  {
   "cell_type": "code",
   "execution_count": 3,
   "metadata": {},
   "outputs": [],
   "source": [
    "def summarize_diagnostics(history):\n",
    "    #plot loss\n",
    "    pyplot.subplot(211)\n",
    "    pyplot.title('Cross Entropy Loss')\n",
    "    #blue = train, orange = test\n",
    "    pyplot.plot(history.history['loss'],color='blue',label='train')\n",
    "    pyplot.plot(history.history['val_loss'], color='orange', label='test')\n",
    "    #plot accuracy\n",
    "    pyplot.subplot(212)\n",
    "    pyplot.title('Classification Accuracy')\n",
    "    pyplot.plot(history.history['accuracy'], color='blue', label='train')\n",
    "    pyplot.plot(history.history['val_accuracy'], color='orange', label='test')\n",
    "    pyplot.tight_layout()\n",
    "    #save plot to file\n",
    "    filename = sys.argv[0].split('/')[-1]\n",
    "    pyplot.savefig(filename + '_plot.png')\n",
    "    pyplot.show()\n",
    "    pyplot.close()"
   ]
  },
  {
   "cell_type": "code",
   "execution_count": 4,
   "metadata": {},
   "outputs": [],
   "source": [
    "def define_model_vgg_16():\n",
    "    # load model\n",
    "    model = VGG16(include_top=False,input_shape=(224,224,3))\n",
    "    # mark loaded layers as not trainable\n",
    "    for layer in model.layers:\n",
    "        layer.trainable = False\n",
    "    # add new classifier layers\n",
    "    flat1 = Flatten()(model.layers[-1].output)\n",
    "    class1 = Dense(128,activation='relu',kernel_initializer='he_uniform')(flat1)\n",
    "    output = Dense(5,activation='softmax')(class1)\n",
    "    # define new model\n",
    "    model = Model(inputs=model.inputs, outputs = output)\n",
    "    #compile model\n",
    "    opt = SGD(lr=0.001,momentum=0.9)\n",
    "    model.compile(optimizer=opt,loss='categorical_crossentropy',metrics=['accuracy'])\n",
    "    return model"
   ]
  },
  {
   "cell_type": "code",
   "execution_count": 5,
   "metadata": {},
   "outputs": [],
   "source": [
    "from tensorflow.keras.applications.vgg16 import VGG16\n",
    "from tensorflow.keras.models import Model"
   ]
  },
  {
   "cell_type": "code",
   "execution_count": 6,
   "metadata": {},
   "outputs": [],
   "source": [
    "def run_model_vgg16():\n",
    "    model = define_model_vgg_16()\n",
    "    datagen = ImageDataGenerator(featurewise_center=True)\n",
    "    datagen.mean = [123.68,116.779,103.939]\n",
    "    #prepare train and test iterators\n",
    "    train_it = datagen.flow_from_directory('flowers2/train/',\n",
    "                class_mode='categorical',batch_size=64,target_size=(224,224))\n",
    "    test_it = datagen.flow_from_directory('flowers2/test/',\n",
    "            class_mode='categorical', batch_size=64, target_size=(224, 224))\n",
    "    #fit model\n",
    "    history = model.fit_generator(train_it,steps_per_epoch=len(train_it),\n",
    "            validation_data=test_it,validation_steps=len(test_it),epochs=10,verbose=1)\n",
    "    #evaluate model\n",
    "    _, acc = model.evaluate_generator(test_it, steps=len(test_it), verbose=0)\n",
    "    print('>%.3f' % (acc*100.0))\n",
    "    #plot of learning curves\n",
    "    summarize_diagnostics(history)\n",
    "    #save model\n",
    "    model.save('flowers_model.h5')\n",
    "    converter = tf.lite.TFLiteConverter.from_keras_model(model)\n",
    "    tflite_model = converter.convert()\n",
    "    open(\"converted_model.tflite\", \"wb\").write(tflite_model)"
   ]
  },
  {
   "cell_type": "code",
   "execution_count": 7,
   "metadata": {},
   "outputs": [
    {
     "name": "stdout",
     "output_type": "stream",
     "text": [
      "Found 3459 images belonging to 5 classes.\n",
      "Found 864 images belonging to 5 classes.\n"
     ]
    },
    {
     "name": "stderr",
     "output_type": "stream",
     "text": [
      "D:\\Anaconda\\lib\\site-packages\\tensorflow\\python\\keras\\engine\\training.py:1847: UserWarning: `Model.fit_generator` is deprecated and will be removed in a future version. Please use `Model.fit`, which supports generators.\n",
      "  warnings.warn('`Model.fit_generator` is deprecated and '\n"
     ]
    },
    {
     "name": "stdout",
     "output_type": "stream",
     "text": [
      "Epoch 1/10\n",
      "55/55 [==============================] - 589s 11s/step - loss: 5.4867 - accuracy: 0.5944 - val_loss: 0.7518 - val_accuracy: 0.7650\n",
      "Epoch 2/10\n",
      "55/55 [==============================] - 592s 11s/step - loss: 0.3558 - accuracy: 0.8654 - val_loss: 0.7362 - val_accuracy: 0.7940\n",
      "Epoch 3/10\n",
      "55/55 [==============================] - 608s 11s/step - loss: 0.2130 - accuracy: 0.9157 - val_loss: 0.7513 - val_accuracy: 0.7975\n",
      "Epoch 4/10\n",
      "55/55 [==============================] - 609s 11s/step - loss: 0.1161 - accuracy: 0.9544 - val_loss: 0.7812 - val_accuracy: 0.8183\n",
      "Epoch 5/10\n",
      "55/55 [==============================] - 613s 11s/step - loss: 0.0672 - accuracy: 0.9747 - val_loss: 0.9087 - val_accuracy: 0.8218\n",
      "Epoch 6/10\n",
      "55/55 [==============================] - 617s 11s/step - loss: 0.0426 - accuracy: 0.9833 - val_loss: 0.9003 - val_accuracy: 0.8183\n",
      "Epoch 7/10\n",
      "55/55 [==============================] - 614s 11s/step - loss: 0.0289 - accuracy: 0.9922 - val_loss: 0.9950 - val_accuracy: 0.8310\n",
      "Epoch 8/10\n",
      "55/55 [==============================] - 624s 11s/step - loss: 0.0281 - accuracy: 0.9925 - val_loss: 0.9974 - val_accuracy: 0.8299\n",
      "Epoch 9/10\n",
      "55/55 [==============================] - 622s 11s/step - loss: 0.0244 - accuracy: 0.9916 - val_loss: 1.0567 - val_accuracy: 0.8299\n",
      "Epoch 10/10\n",
      "55/55 [==============================] - 612s 11s/step - loss: 0.0166 - accuracy: 0.9947 - val_loss: 1.0713 - val_accuracy: 0.8287\n"
     ]
    },
    {
     "name": "stderr",
     "output_type": "stream",
     "text": [
      "D:\\Anaconda\\lib\\site-packages\\tensorflow\\python\\keras\\engine\\training.py:1880: UserWarning: `Model.evaluate_generator` is deprecated and will be removed in a future version. Please use `Model.evaluate`, which supports generators.\n",
      "  warnings.warn('`Model.evaluate_generator` is deprecated and '\n"
     ]
    },
    {
     "name": "stdout",
     "output_type": "stream",
     "text": [
      ">82.870\n"
     ]
    },
    {
     "data": {
      "image/png": "[encoded data removed]",
      "text/plain": [
       "<Figure size 432x288 with 2 Axes>"
      ]
     },
     "metadata": {
      "needs_background": "light"
     },
     "output_type": "display_data"
    },
    {
     "name": "stderr",
     "output_type": "stream",
     "text": [
      "D:\\Anaconda\\lib\\site-packages\\tensorflow\\python\\keras\\engine\\training.py:2342: UserWarning: `Model.state_updates` will be removed in a future version. This property should not be used in TensorFlow 2.0, as `updates` are applied automatically.\n",
      "  warnings.warn('`Model.state_updates` will be removed in a future version. '\n",
      "D:\\Anaconda\\lib\\site-packages\\tensorflow\\python\\keras\\engine\\base_layer.py:1395: UserWarning: `layer.updates` will be removed in a future version. This property should not be used in TensorFlow 2.0, as `updates` are applied automatically.\n",
      "  warnings.warn('`layer.updates` will be removed in a future version. '\n"
     ]
    },
    {
     "name": "stdout",
     "output_type": "stream",
     "text": [
      "INFO:tensorflow:Assets written to: C:\\Users\\metec\\AppData\\Local\\Temp\\tmpmw59xc1l\\assets\n"
     ]
    }
   ],
   "source": [
    "run_model_vgg16()"
   ]
  },
  {
   "cell_type": "code",
   "execution_count": null,
   "metadata": {},
   "outputs": [],
   "source": []
  }
 ],
 "metadata": {
  "kernelspec": {
   "display_name": "Python 3",
   "language": "python",
   "name": "python3"
  },
  "language_info": {
   "codemirror_mode": {
    "name": "ipython",
    "version": 3
   },
   "file_extension": ".py",
   "mimetype": "text/x-python",
   "name": "python",
   "nbconvert_exporter": "python",
   "pygments_lexer": "ipython3",
   "version": "3.8.3"
  }
 },
 "nbformat": 4,
 "nbformat_minor": 4
}
